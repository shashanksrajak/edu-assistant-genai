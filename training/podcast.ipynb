{
 "cells": [
  {
   "cell_type": "markdown",
   "id": "5c9cf41e",
   "metadata": {},
   "source": [
    "## Podcast Audio\n",
    "\n",
    "https://www.datacamp.com/tutorial/amazon-polly"
   ]
  },
  {
   "cell_type": "code",
   "execution_count": 1,
   "id": "fc36e09a",
   "metadata": {},
   "outputs": [],
   "source": [
    "from dotenv import load_dotenv\n",
    "from langchain.chat_models import init_chat_model\n",
    "from langchain_core.prompts import ChatPromptTemplate\n",
    "from langchain.output_parsers import PydanticOutputParser\n",
    "from pydantic import BaseModel, Field\n",
    "from typing_extensions import TypedDict\n",
    "from IPython.display import Markdown\n",
    "from langchain_core.prompts import ChatPromptTemplate\n",
    "from langgraph.prebuilt import create_react_agent"
   ]
  },
  {
   "cell_type": "code",
   "execution_count": 2,
   "id": "e97f5e29",
   "metadata": {},
   "outputs": [
    {
     "name": "stdout",
     "output_type": "stream",
     "text": [
      "content='Hello there! How can I help you today?' additional_kwargs={} response_metadata={'prompt_feedback': {'block_reason': 0, 'safety_ratings': []}, 'finish_reason': 'STOP', 'model_name': 'gemini-2.0-flash', 'safety_ratings': []} id='run--faeda2d3-7cbe-417d-99bd-1ab0519bbeed-0' usage_metadata={'input_tokens': 3, 'output_tokens': 11, 'total_tokens': 14, 'input_token_details': {'cache_read': 0}}\n"
     ]
    }
   ],
   "source": [
    "model = init_chat_model(\n",
    "    \"gemini-2.0-flash\", model_provider=\"google_genai\")\n",
    "\n",
    "# .with_structured_output(MyOutput)\n",
    "response = model.invoke(\"Hello World!!\")\n",
    "print(response)"
   ]
  },
  {
   "cell_type": "code",
   "execution_count": 4,
   "id": "dd1c554a",
   "metadata": {},
   "outputs": [],
   "source": [
    "# Student profile type definition\n",
    "class StudentProfile(TypedDict):\n",
    "    gender: str\n",
    "    class_level: str  # e.g., \"class 6\", \"12th\", \"undergrad\", \"postgrad\"\n",
    "    language: str     # e.g., \"hindi\", \"english\", \"marathi\"\n",
    "\n",
    "\n",
    "class UserPrompt(TypedDict):\n",
    "    topic: str\n",
    "    pdf_file: str\n",
    "    audio_file: str\n",
    "\n",
    "# Graph state\n",
    "\n",
    "\n",
    "class State(TypedDict):\n",
    "    student_profile: StudentProfile\n",
    "    user_prompt: UserPrompt\n",
    "    summary_notes: str\n",
    "    podcast_script: str\n",
    "    mindmap: str\n",
    "    quiz: str\n",
    "    recommended_resources: str\n",
    "    study_plan: str\n",
    "    combined_output: str"
   ]
  },
  {
   "cell_type": "code",
   "execution_count": 31,
   "id": "526f5617",
   "metadata": {},
   "outputs": [],
   "source": [
    "# Prompts Templates\n",
    "class PersonalizedPromptsStudent:\n",
    "    def __init__(self, topic, student_profile: dict, user_instructions: str = \"\"):\n",
    "        self.topic = topic\n",
    "        self.student_profile = student_profile\n",
    "        self.user_instructions = user_instructions\n",
    "\n",
    "    def recommendation_resources(self):\n",
    "        \"\"\"Create a personalized prompt based on student profile\"\"\"\n",
    "\n",
    "        prompt_template = ChatPromptTemplate([\n",
    "           (\"system\", \"\"\"\n",
    "             You are an **expert academic female tutor and podcast content creator**. Your goal is to generate engaging, informative, and personalized educational podcast summaries for students.\n",
    "\n",
    "            **Student Profile:**\n",
    "            * **Class Level:** {class_level}\n",
    "            * **Target Language:** {language} (Provide content in this language.)\n",
    "            * **Preferred Pronouns:** {gender} (e.g., she/her, he/him, they/them – use to personalize direct address, if appropriate for the content style.)\n",
    "\n",
    "            **Podcast Content Requirements:**\n",
    "            1.  **Comprehensive Summary:** Generate a detailed and well-structured summary of the user-provided topic. This summary should serve as the core script for a **7-10 minute audio podcast episode within a 3000 character limit**.\n",
    "            2.  **Academic Appropriateness:** Tailor the depth, complexity, and vocabulary of the content precisely to the specified **{class_level}**. Assume the student has foundational knowledge typical for their level, but introduce new concepts clearly.\n",
    "            3.  **Engaging Delivery Style:**\n",
    "                * Write in a conversational, accessible, and enthusiastic tone.\n",
    "                * Incorporate brief, relatable examples or analogies where helpful.\n",
    "                * Suggest pauses, changes in speaking rate, or emphasis using SSML tags to enhance listening experience (e.g., `<break>`, `<prosody>`).\n",
    "                * Include a brief, friendly introduction and conclusion suitable for a podcast.\n",
    "            4.  **SSML Formatting:** The entire response **must be formatted in SSML (Speech Synthesis Markup Language)**.\n",
    "            5.  **Podcast Episode Structure:** Your summary should implicitly or explicitly follow a logical podcast flow:\n",
    "                * **Introduction:** Hook the listener, introduce the topic.\n",
    "                * **Main Content:** Break down the topic into digestible segments.\n",
    "                * **Key Takeaways/Recap:** Briefly summarize the main points.\n",
    "                * **Call to Action/Further Exploration:** Encourage continued learning.\n",
    "\n",
    "            **Additional Instructions/Specific Focus:** {user_instructions} (e.g., \"Focus on historical context,\" \"Explain practical applications,\" \"Include a quick quiz question at the end.\")\"\"\"),\n",
    "\n",
    "            (\"user\", \"Create a podcast episode summary for the topic: **{topic}**. Also, provide a short list of **3-5 recommended resources** for further learning on this topic, mentioned at the end of the SSML content. Make sure to embed these recommendations clearly within the SSML as if spoken by the podcast host.\")\n",
    "        ])\n",
    "\n",
    "        return prompt_template.invoke({\n",
    "            \"topic\": self.topic,\n",
    "            \"class_level\": self.student_profile.get(\"class_level\", \"general\"),\n",
    "            \"language\": self.student_profile.get(\"language\", \"English\"),\n",
    "            \"gender\": self.student_profile.get(\"gender\", \"\"),\n",
    "            \"word_limit\": \"150\",\n",
    "            \"user_instructions\": self.user_instructions or \"Focus on key concepts with examples\"\n",
    "        })"
   ]
  },
  {
   "cell_type": "code",
   "execution_count": 17,
   "id": "c04463ab",
   "metadata": {},
   "outputs": [],
   "source": [
    "class PodcastContent(BaseModel):\n",
    "    topic: str = Field(description=\"topic of the podcast\")\n",
    "    SSML: str = Field(description=\"SSML content for the podcast\")\n",
    "    "
   ]
  },
  {
   "cell_type": "code",
   "execution_count": 32,
   "id": "f9ff2059",
   "metadata": {},
   "outputs": [],
   "source": [
    "def node_recommendation_sources(state: State):\n",
    "    \"\"\"LLM call to generate recommendation materials\"\"\"\n",
    "\n",
    "    prompt_instance = PersonalizedPromptsStudent(\n",
    "        state['user_prompt']['topic'], state['student_profile'])\n",
    "\n",
    "    prompt_message = prompt_instance.recommendation_resources()\n",
    "        \n",
    "    model = init_chat_model(\n",
    "        \"gemini-2.0-flash\", model_provider=\"google_genai\").with_structured_output(PodcastContent)\n",
    "\n",
    "    response = model.invoke(prompt_message)\n",
    "    \n",
    "    print(response)\n",
    "\n",
    "    return {\"response\": response}"
   ]
  },
  {
   "cell_type": "code",
   "execution_count": 13,
   "id": "4dae2283",
   "metadata": {},
   "outputs": [],
   "source": [
    "input_state = {\n",
    "    \"student_profile\": {\n",
    "        \"gender\": \"MALE\",\n",
    "        \"class_level\": \"12th\",\n",
    "        \"language\": \"HINDI\"\n",
    "    },\n",
    "    \"user_prompt\": {\n",
    "        \"topic\": \"Chola kingdom\"\n",
    "    }\n",
    "}"
   ]
  },
  {
   "cell_type": "code",
   "execution_count": 33,
   "id": "48330272",
   "metadata": {},
   "outputs": [
    {
     "name": "stdout",
     "output_type": "stream",
     "text": [
      "topic='Chola kingdom' SSML='<speak>\\n <prosody rate=\"medium\">नमस्ते दोस्तों! आपका स्वागत है आज के इतिहास के रंग में रंगे पॉडकास्ट में। आज हम बात करेंगे चोल साम्राज्य की, जो दक्षिण भारत के इतिहास का एक बहुत ही महत्वपूर्ण हिस्सा है। तो चलिए, बिना किसी देरी के, शुरू करते हैं!</prosody>\\n\\n<break time=\"500ms\"/>\\n<prosody rate=\"slow\">चोल साम्राज्य, जो लगभग 9वीं शताब्दी से 13वीं शताब्दी तक सत्ता में रहा, ने दक्षिण भारत को एक शक्तिशाली और समृद्ध साम्राज्य बनाया।</prosody> <prosody rate=\"medium\">इनका साम्राज्य तमिलनाडु से लेकर श्रीलंका और मालदीव तक फैला हुआ था। चोल राजाओं ने एक मजबूत नौसेना बनाई, जिसकी वजह से वे समुद्री व्यापार में भी आगे रहे।</prosody>\\n\\n<break time=\"500ms\"/>\\n<prosody rate=\"medium\">चोल साम्राज्य की सबसे खास बात थी उनका स्थानीय स्वशासन। उन्होंने गांवों में \\'उर\\' और \\'सभा\\' जैसी संस्थाएं बनाईं, जो गांव के मामलों को खुद देखती थीं।</prosody> <prosody rate=\"medium\">इसके अलावा, चोल राजाओं ने कला और साहित्य को भी बहुत बढ़ावा दिया। उन्होंने बड़े-बड़े मंदिर बनवाए, जैसे कि तंजावुर का बृहदेश्वर मंदिर, जो आज भी उनकी महानता की कहानी कहता है।</prosody>\\n\\n<break time=\"500ms\"/>\\n<prosody rate=\"medium\">चोल साम्राज्य के राजाओं में राजाराज चोल प्रथम और राजेंद्र चोल प्रथम सबसे प्रसिद्ध थे। राजाराज चोल प्रथम ने नौसेना की शक्ति का इस्तेमाल करके कई देशों को जीता, जबकि राजेंद्र चोल प्रथम ने गंगा नदी तक अपनी सेना भेजी और \\'गंगईकोंड चोलपुरम\\' नामक नई राजधानी बनाई।</prosody>\\n\\n<break time=\"500ms\"/>\\n<prosody rate=\"medium\">लेकिन, 13वीं शताब्दी में पांड्य राजाओं के आक्रमणों के कारण चोल साम्राज्य कमजोर हो गया और धीरे-धीरे खत्म हो गया।</prosody>\\n\\n<break time=\"500ms\"/>\\n<prosody rate=\"medium\">तो दोस्तों, ये था चोल साम्राज्य का एक छोटा सा परिचय। हमने देखा कि कैसे उन्होंने दक्षिण भारत को एक शक्तिशाली और समृद्ध साम्राज्य बनाया और कला, साहित्य और स्थानीय स्वशासन में अपना योगदान दिया।</prosody>\\n\\n<break time=\"500ms\"/>\\n<prosody rate=\"medium\">अब, जल्दी से कुछ मुख्य बातें दोहरा लेते हैं। चोल साम्राज्य 9वीं से 13वीं शताब्दी तक चला। उन्होंने स्थानीय स्वशासन को बढ़ावा दिया। राजाराज चोल प्रथम और राजेंद्र चोल प्रथम उनके सबसे महान राजा थे।</prosody>\\n\\n<break time=\"500ms\"/>\\n<prosody rate=\"medium\">अगर आप चोल साम्राज्य के बारे में और जानना चाहते हैं, तो मैं आपको कुछ किताबें और वेबसाइट्स बताना चाहूंगी। आप \\'ए हिस्ट्री ऑफ साउथ इंडिया\\' (A History of South India) बाय के.ए. नीलकंठ शास्त्री (K.A. Nilakanta Sastri) पढ़ सकते हैं। इसके अलावा, तमिलनाडु टेक्स्टबुक कॉर्पोरेशन की वेबसाइट पर भी आपको अच्छी जानकारी मिल जाएगी, और विकिपीडिया पर भी चोल साम्राज्य के बारे में काफी कुछ है।</prosody>\\n\\n<break time=\"500ms\"/>\\n<prosody rate=\"medium\">आज के लिए बस इतना ही! अगले एपिसोड में हम फिर मिलेंगे एक नए विषय के साथ। तब तक के लिए, धन्यवाद!</prosody>\\n</speak>\\n'\n"
     ]
    }
   ],
   "source": [
    "output = node_recommendation_sources(input_state)"
   ]
  },
  {
   "cell_type": "code",
   "execution_count": 35,
   "id": "f8e2f013",
   "metadata": {},
   "outputs": [
    {
     "data": {
      "text/plain": [
       "{'topic': 'Chola kingdom',\n",
       " 'SSML': '<speak>\\n <prosody rate=\"medium\">नमस्ते दोस्तों! आपका स्वागत है आज के इतिहास के रंग में रंगे पॉडकास्ट में। आज हम बात करेंगे चोल साम्राज्य की, जो दक्षिण भारत के इतिहास का एक बहुत ही महत्वपूर्ण हिस्सा है। तो चलिए, बिना किसी देरी के, शुरू करते हैं!</prosody>\\n\\n<break time=\"500ms\"/>\\n<prosody rate=\"slow\">चोल साम्राज्य, जो लगभग 9वीं शताब्दी से 13वीं शताब्दी तक सत्ता में रहा, ने दक्षिण भारत को एक शक्तिशाली और समृद्ध साम्राज्य बनाया।</prosody> <prosody rate=\"medium\">इनका साम्राज्य तमिलनाडु से लेकर श्रीलंका और मालदीव तक फैला हुआ था। चोल राजाओं ने एक मजबूत नौसेना बनाई, जिसकी वजह से वे समुद्री व्यापार में भी आगे रहे।</prosody>\\n\\n<break time=\"500ms\"/>\\n<prosody rate=\"medium\">चोल साम्राज्य की सबसे खास बात थी उनका स्थानीय स्वशासन। उन्होंने गांवों में \\'उर\\' और \\'सभा\\' जैसी संस्थाएं बनाईं, जो गांव के मामलों को खुद देखती थीं।</prosody> <prosody rate=\"medium\">इसके अलावा, चोल राजाओं ने कला और साहित्य को भी बहुत बढ़ावा दिया। उन्होंने बड़े-बड़े मंदिर बनवाए, जैसे कि तंजावुर का बृहदेश्वर मंदिर, जो आज भी उनकी महानता की कहानी कहता है।</prosody>\\n\\n<break time=\"500ms\"/>\\n<prosody rate=\"medium\">चोल साम्राज्य के राजाओं में राजाराज चोल प्रथम और राजेंद्र चोल प्रथम सबसे प्रसिद्ध थे। राजाराज चोल प्रथम ने नौसेना की शक्ति का इस्तेमाल करके कई देशों को जीता, जबकि राजेंद्र चोल प्रथम ने गंगा नदी तक अपनी सेना भेजी और \\'गंगईकोंड चोलपुरम\\' नामक नई राजधानी बनाई।</prosody>\\n\\n<break time=\"500ms\"/>\\n<prosody rate=\"medium\">लेकिन, 13वीं शताब्दी में पांड्य राजाओं के आक्रमणों के कारण चोल साम्राज्य कमजोर हो गया और धीरे-धीरे खत्म हो गया।</prosody>\\n\\n<break time=\"500ms\"/>\\n<prosody rate=\"medium\">तो दोस्तों, ये था चोल साम्राज्य का एक छोटा सा परिचय। हमने देखा कि कैसे उन्होंने दक्षिण भारत को एक शक्तिशाली और समृद्ध साम्राज्य बनाया और कला, साहित्य और स्थानीय स्वशासन में अपना योगदान दिया।</prosody>\\n\\n<break time=\"500ms\"/>\\n<prosody rate=\"medium\">अब, जल्दी से कुछ मुख्य बातें दोहरा लेते हैं। चोल साम्राज्य 9वीं से 13वीं शताब्दी तक चला। उन्होंने स्थानीय स्वशासन को बढ़ावा दिया। राजाराज चोल प्रथम और राजेंद्र चोल प्रथम उनके सबसे महान राजा थे।</prosody>\\n\\n<break time=\"500ms\"/>\\n<prosody rate=\"medium\">अगर आप चोल साम्राज्य के बारे में और जानना चाहते हैं, तो मैं आपको कुछ किताबें और वेबसाइट्स बताना चाहूंगी। आप \\'ए हिस्ट्री ऑफ साउथ इंडिया\\' (A History of South India) बाय के.ए. नीलकंठ शास्त्री (K.A. Nilakanta Sastri) पढ़ सकते हैं। इसके अलावा, तमिलनाडु टेक्स्टबुक कॉर्पोरेशन की वेबसाइट पर भी आपको अच्छी जानकारी मिल जाएगी, और विकिपीडिया पर भी चोल साम्राज्य के बारे में काफी कुछ है।</prosody>\\n\\n<break time=\"500ms\"/>\\n<prosody rate=\"medium\">आज के लिए बस इतना ही! अगले एपिसोड में हम फिर मिलेंगे एक नए विषय के साथ। तब तक के लिए, धन्यवाद!</prosody>\\n</speak>\\n'}"
      ]
     },
     "execution_count": 35,
     "metadata": {},
     "output_type": "execute_result"
    }
   ],
   "source": [
    "output[\"response\"].model_dump()"
   ]
  },
  {
   "cell_type": "code",
   "execution_count": 36,
   "id": "6811be55",
   "metadata": {},
   "outputs": [
    {
     "data": {
      "text/plain": [
       "'<speak>\\n <prosody rate=\"medium\">नमस्ते दोस्तों! आपका स्वागत है आज के इतिहास के रंग में रंगे पॉडकास्ट में। आज हम बात करेंगे चोल साम्राज्य की, जो दक्षिण भारत के इतिहास का एक बहुत ही महत्वपूर्ण हिस्सा है। तो चलिए, बिना किसी देरी के, शुरू करते हैं!</prosody>\\n\\n<break time=\"500ms\"/>\\n<prosody rate=\"slow\">चोल साम्राज्य, जो लगभग 9वीं शताब्दी से 13वीं शताब्दी तक सत्ता में रहा, ने दक्षिण भारत को एक शक्तिशाली और समृद्ध साम्राज्य बनाया।</prosody> <prosody rate=\"medium\">इनका साम्राज्य तमिलनाडु से लेकर श्रीलंका और मालदीव तक फैला हुआ था। चोल राजाओं ने एक मजबूत नौसेना बनाई, जिसकी वजह से वे समुद्री व्यापार में भी आगे रहे।</prosody>\\n\\n<break time=\"500ms\"/>\\n<prosody rate=\"medium\">चोल साम्राज्य की सबसे खास बात थी उनका स्थानीय स्वशासन। उन्होंने गांवों में \\'उर\\' और \\'सभा\\' जैसी संस्थाएं बनाईं, जो गांव के मामलों को खुद देखती थीं।</prosody> <prosody rate=\"medium\">इसके अलावा, चोल राजाओं ने कला और साहित्य को भी बहुत बढ़ावा दिया। उन्होंने बड़े-बड़े मंदिर बनवाए, जैसे कि तंजावुर का बृहदेश्वर मंदिर, जो आज भी उनकी महानता की कहानी कहता है।</prosody>\\n\\n<break time=\"500ms\"/>\\n<prosody rate=\"medium\">चोल साम्राज्य के राजाओं में राजाराज चोल प्रथम और राजेंद्र चोल प्रथम सबसे प्रसिद्ध थे। राजाराज चोल प्रथम ने नौसेना की शक्ति का इस्तेमाल करके कई देशों को जीता, जबकि राजेंद्र चोल प्रथम ने गंगा नदी तक अपनी सेना भेजी और \\'गंगईकोंड चोलपुरम\\' नामक नई राजधानी बनाई।</prosody>\\n\\n<break time=\"500ms\"/>\\n<prosody rate=\"medium\">लेकिन, 13वीं शताब्दी में पांड्य राजाओं के आक्रमणों के कारण चोल साम्राज्य कमजोर हो गया और धीरे-धीरे खत्म हो गया।</prosody>\\n\\n<break time=\"500ms\"/>\\n<prosody rate=\"medium\">तो दोस्तों, ये था चोल साम्राज्य का एक छोटा सा परिचय। हमने देखा कि कैसे उन्होंने दक्षिण भारत को एक शक्तिशाली और समृद्ध साम्राज्य बनाया और कला, साहित्य और स्थानीय स्वशासन में अपना योगदान दिया।</prosody>\\n\\n<break time=\"500ms\"/>\\n<prosody rate=\"medium\">अब, जल्दी से कुछ मुख्य बातें दोहरा लेते हैं। चोल साम्राज्य 9वीं से 13वीं शताब्दी तक चला। उन्होंने स्थानीय स्वशासन को बढ़ावा दिया। राजाराज चोल प्रथम और राजेंद्र चोल प्रथम उनके सबसे महान राजा थे।</prosody>\\n\\n<break time=\"500ms\"/>\\n<prosody rate=\"medium\">अगर आप चोल साम्राज्य के बारे में और जानना चाहते हैं, तो मैं आपको कुछ किताबें और वेबसाइट्स बताना चाहूंगी। आप \\'ए हिस्ट्री ऑफ साउथ इंडिया\\' (A History of South India) बाय के.ए. नीलकंठ शास्त्री (K.A. Nilakanta Sastri) पढ़ सकते हैं। इसके अलावा, तमिलनाडु टेक्स्टबुक कॉर्पोरेशन की वेबसाइट पर भी आपको अच्छी जानकारी मिल जाएगी, और विकिपीडिया पर भी चोल साम्राज्य के बारे में काफी कुछ है।</prosody>\\n\\n<break time=\"500ms\"/>\\n<prosody rate=\"medium\">आज के लिए बस इतना ही! अगले एपिसोड में हम फिर मिलेंगे एक नए विषय के साथ। तब तक के लिए, धन्यवाद!</prosody>\\n</speak>\\n'"
      ]
     },
     "execution_count": 36,
     "metadata": {},
     "output_type": "execute_result"
    }
   ],
   "source": [
    "dict_response = output[\"response\"].model_dump()\n",
    "SSML = dict_response['SSML']\n",
    "SSML"
   ]
  },
  {
   "cell_type": "code",
   "execution_count": 37,
   "id": "9dc8c797",
   "metadata": {},
   "outputs": [
    {
     "data": {
      "text/plain": [
       "'<speak> <prosody rate=\"medium\">नमस्ते दोस्तों! आपका स्वागत है आज के इतिहास के रंग में रंगे पॉडकास्ट में। आज हम बात करेंगे चोल साम्राज्य की, जो दक्षिण भारत के इतिहास का एक बहुत ही महत्वपूर्ण हिस्सा है। तो चलिए, बिना किसी देरी के, शुरू करते हैं!</prosody><break time=\"500ms\"/><prosody rate=\"slow\">चोल साम्राज्य, जो लगभग 9वीं शताब्दी से 13वीं शताब्दी तक सत्ता में रहा, ने दक्षिण भारत को एक शक्तिशाली और समृद्ध साम्राज्य बनाया।</prosody> <prosody rate=\"medium\">इनका साम्राज्य तमिलनाडु से लेकर श्रीलंका और मालदीव तक फैला हुआ था। चोल राजाओं ने एक मजबूत नौसेना बनाई, जिसकी वजह से वे समुद्री व्यापार में भी आगे रहे।</prosody><break time=\"500ms\"/><prosody rate=\"medium\">चोल साम्राज्य की सबसे खास बात थी उनका स्थानीय स्वशासन। उन्होंने गांवों में \\'उर\\' और \\'सभा\\' जैसी संस्थाएं बनाईं, जो गांव के मामलों को खुद देखती थीं।</prosody> <prosody rate=\"medium\">इसके अलावा, चोल राजाओं ने कला और साहित्य को भी बहुत बढ़ावा दिया। उन्होंने बड़े-बड़े मंदिर बनवाए, जैसे कि तंजावुर का बृहदेश्वर मंदिर, जो आज भी उनकी महानता की कहानी कहता है।</prosody><break time=\"500ms\"/><prosody rate=\"medium\">चोल साम्राज्य के राजाओं में राजाराज चोल प्रथम और राजेंद्र चोल प्रथम सबसे प्रसिद्ध थे। राजाराज चोल प्रथम ने नौसेना की शक्ति का इस्तेमाल करके कई देशों को जीता, जबकि राजेंद्र चोल प्रथम ने गंगा नदी तक अपनी सेना भेजी और \\'गंगईकोंड चोलपुरम\\' नामक नई राजधानी बनाई।</prosody><break time=\"500ms\"/><prosody rate=\"medium\">लेकिन, 13वीं शताब्दी में पांड्य राजाओं के आक्रमणों के कारण चोल साम्राज्य कमजोर हो गया और धीरे-धीरे खत्म हो गया।</prosody><break time=\"500ms\"/><prosody rate=\"medium\">तो दोस्तों, ये था चोल साम्राज्य का एक छोटा सा परिचय। हमने देखा कि कैसे उन्होंने दक्षिण भारत को एक शक्तिशाली और समृद्ध साम्राज्य बनाया और कला, साहित्य और स्थानीय स्वशासन में अपना योगदान दिया।</prosody><break time=\"500ms\"/><prosody rate=\"medium\">अब, जल्दी से कुछ मुख्य बातें दोहरा लेते हैं। चोल साम्राज्य 9वीं से 13वीं शताब्दी तक चला। उन्होंने स्थानीय स्वशासन को बढ़ावा दिया। राजाराज चोल प्रथम और राजेंद्र चोल प्रथम उनके सबसे महान राजा थे।</prosody><break time=\"500ms\"/><prosody rate=\"medium\">अगर आप चोल साम्राज्य के बारे में और जानना चाहते हैं, तो मैं आपको कुछ किताबें और वेबसाइट्स बताना चाहूंगी। आप \\'ए हिस्ट्री ऑफ साउथ इंडिया\\' (A History of South India) बाय के.ए. नीलकंठ शास्त्री (K.A. Nilakanta Sastri) पढ़ सकते हैं। इसके अलावा, तमिलनाडु टेक्स्टबुक कॉर्पोरेशन की वेबसाइट पर भी आपको अच्छी जानकारी मिल जाएगी, और विकिपीडिया पर भी चोल साम्राज्य के बारे में काफी कुछ है।</prosody><break time=\"500ms\"/><prosody rate=\"medium\">आज के लिए बस इतना ही! अगले एपिसोड में हम फिर मिलेंगे एक नए विषय के साथ। तब तक के लिए, धन्यवाद!</prosody></speak>'"
      ]
     },
     "execution_count": 37,
     "metadata": {},
     "output_type": "execute_result"
    }
   ],
   "source": [
    "import re\n",
    "\n",
    "def clean_podcast_content(content):\n",
    "    clean_text = re.sub(r\"[\\n\\r]\", \"\", content)\n",
    "    return clean_text\n",
    "\n",
    "SSML = clean_podcast_content(SSML)\n",
    "\n",
    "SSML"
   ]
  },
  {
   "cell_type": "markdown",
   "id": "f3e6476b",
   "metadata": {},
   "source": [
    "## Generate Podcast Audio using AWS\n",
    "\n",
    "https://boto3.amazonaws.com/v1/documentation/api/latest/reference/services/polly/client/synthesize_speech.html#"
   ]
  },
  {
   "cell_type": "code",
   "execution_count": 8,
   "id": "0d04eefe",
   "metadata": {},
   "outputs": [],
   "source": [
    "import boto3\n",
    "\n",
    "polly = boto3.client('polly')"
   ]
  },
  {
   "cell_type": "code",
   "execution_count": 9,
   "id": "eddb27bc",
   "metadata": {},
   "outputs": [],
   "source": [
    "text_input = \"<speak>नमस्ते! मेरा नाम काजल। मैं आपके द्वारा यहां टाइप किए गए किसी भी वाक्य को पढ़ सकती हूं।</speak>\""
   ]
  },
  {
   "cell_type": "code",
   "execution_count": 12,
   "id": "8402f459",
   "metadata": {},
   "outputs": [],
   "source": [
    "text_input = '<speak><p>नमस्ते! आज हम AI में अनिश्चितता के बारे में बात करेंगे।</p><s>यह मॉड्यूल AI सिस्टम्स में अनिश्चितता को मापने और प्रबंधित करने के तरीकों पर केंद्रित है।</s><break time=\"0.5s\"/><p>AI एजेंटों को अनिश्चितता से निपटने की आवश्यकता होती है क्योंकि वे हमेशा यह नहीं जानते कि वे किस स्थिति में हैं या कार्यों के बाद कहां पहुंचेंगे।</p><s>वे belief state का ट्रैक रखकर अनिश्चितता को संभालते हैं।</s><break time=\"0.3s\"/><p>उदाहरण के लिए, एक ऑटोमेटेड टैक्सी को हवाई अड्डे पर समय पर यात्री को पहुंचाने का लक्ष्य है, लेकिन उसे रास्ते में कई अनिश्चितताओं का सामना करना पड़ता है।</p><break time=\"0.5s\"/><p>अनिश्चित reasoning का एक उदाहरण dental diagnosis है, जिसमें हमेशा अनिश्चितता शामिल होती है।</p><s>अनिश्चितता से निपटने के लिए probability theory सबसे अच्छा उपकरण है।</s><break time=\"0.3s\"/><p>Diagnosis के समय, वास्तविक दुनिया में कोई अनिश्चितता नहीं होती: रोगी को या तो cavity होती है या नहीं।</p><break time=\"0.5s\"/><p>सफलता दरों की तुलना करना, reliability का महत्व, trade-offs, preferences और outcomes, utility theory, और Maximum Expected Utility (MEU) का सिद्धांत महत्वपूर्ण हैं।</p><break time=\"0.5s\"/><p>Probability Assertions में Random variables, domain, probability distribution, joint probability distribution, और full joint probability distribution महत्वपूर्ण हैं।</p><break time=\"0.5s\"/><p>Probability Axioms में Non-negativity axiom और normalization axiom शामिल हैं।</p><break time=\"0.5s\"/><p>Probabilistic inference अनिश्चितता में reasoning और decision-making की प्रक्रिया है।</p><s>इसमें समस्या को define करना, model बनाना, inference करना, और परिणामों का मूल्यांकन करना शामिल है।</s><break time=\"0.5s\"/><p>Independence का मतलब है कि variables एक दूसरे को प्रभावित नहीं करते हैं।</p><s>Marginal independence variables को अलग-अलग मानना है, जबकि absolute independence का मतलब है कि variables एक दूसरे पर condition होने पर भी independent होते हैं।</s><break time=\"0.5s\"/><p>Bayes\\' Rule probabilistic inference के लिए fundamental है।</p><s>उदाहरण के लिए, spam filtering और medical diagnosis में इसका उपयोग होता है।</s><break time=\"0.5s\"/><p>संक्षेप में, यह मॉड्यूल AI में अनिश्चितता की अवधारणा और इससे निपटने के विभिन्न तरीकों की गहरी समझ प्रदान करता है।</p><s>आगे जानने के लिए उत्सुक रहें!</s></speak>'"
   ]
  },
  {
   "cell_type": "code",
   "execution_count": 13,
   "id": "dd22556a",
   "metadata": {},
   "outputs": [],
   "source": [
    "response = polly.synthesize_speech(\n",
    "    Engine='neural',\n",
    "    Text=text_input,\n",
    "    TextType='ssml',\n",
    "    LanguageCode='en-IN',  # 'hi-IN'\n",
    "    OutputFormat='mp3',\n",
    "    VoiceId='Kajal'\n",
    ")\n",
    "\n",
    "with open('speech.mp3', 'wb') as file:\n",
    "    file.write(response['AudioStream'].read())"
   ]
  }
 ],
 "metadata": {
  "kernelspec": {
   "display_name": ".venv",
   "language": "python",
   "name": "python3"
  },
  "language_info": {
   "codemirror_mode": {
    "name": "ipython",
    "version": 3
   },
   "file_extension": ".py",
   "mimetype": "text/x-python",
   "name": "python",
   "nbconvert_exporter": "python",
   "pygments_lexer": "ipython3",
   "version": "3.12.10"
  }
 },
 "nbformat": 4,
 "nbformat_minor": 5
}
